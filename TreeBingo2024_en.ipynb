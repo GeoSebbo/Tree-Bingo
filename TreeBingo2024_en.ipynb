{
 "cells": [
  {
   "cell_type": "code",
   "execution_count": 7,
   "id": "62ba2794",
   "metadata": {},
   "outputs": [],
   "source": [
    "import random\n",
    "from reportlab.lib.pagesizes import letter\n",
    "from reportlab.pdfgen.canvas import Canvas"
   ]
  },
  {
   "cell_type": "code",
   "execution_count": 8,
   "id": "967ac3f9",
   "metadata": {},
   "outputs": [],
   "source": [
    "trees_en = [\"Oak\", \"Beech\", \"Fir\", \"Spruce\", \"Lime-Tree (Tilia)\", \"Cherry\", \"Apple\", \"Birch\", \"Plane\", \"Maple\", \"Chestnut\", \"Larch\", \"Pine\", \"Alder\", \"Sequoia\", \"Douglas Fir\", \"Aspen\", \"Ash\", \"Yew (Taxus)\", \"Walnut\", \"Hazelnut\", \"Weeping Willow\", \"Sal Willow\", \"Holly\", \"Magnolia\"]\n"
   ]
  },
  {
   "cell_type": "code",
   "execution_count": 15,
   "id": "faf18046",
   "metadata": {},
   "outputs": [],
   "source": [
    "def generate_random_grid_and_id(trees_en):\n",
    "    indices = list(range(len(trees_en)))  # Create a list of indices\n",
    "    random.shuffle(indices)  # Shuffle the indices\n",
    "    id_number = ''.join(f\"{index:02d}\" for index in indices)  # Create the ID number\n",
    "    grid = [[None for _ in range(5)] for _ in range(5)]\n",
    "    for i in range(5):\n",
    "        for j in range(5):\n",
    "            grid[i][j] = trees_en[indices.pop(0)]\n",
    "    return grid, id_number"
   ]
  },
  {
   "cell_type": "code",
   "execution_count": 16,
   "id": "de2f1f10",
   "metadata": {},
   "outputs": [],
   "source": [
    "def split_word(tree):\n",
    "    if len(tree) > 11:\n",
    "        # Split the tree name into two lines with a hyphen\n",
    "        return tree[:11] + \"-\", tree[11:]\n",
    "    else:\n",
    "        return tree, None"
   ]
  },
  {
   "cell_type": "code",
   "execution_count": 17,
   "id": "c0ac7b4b",
   "metadata": {},
   "outputs": [],
   "source": [
    "def save_grid_to_pdf(grid, id_number, filename):\n",
    "    c = Canvas(filename, pagesize=letter)\n",
    "    c.setFont(\"Helvetica-Bold\", 16)\n",
    "    \n",
    "    # Add the title at the top of the page\n",
    "    c.drawCentredString(300, 750, \"TREE BINGO 2024\")\n",
    "    \n",
    "    # Set font size for the grid\n",
    "    c.setFont(\"Helvetica\", 12)\n",
    "    \n",
    "    # Define grid properties\n",
    "    x_start = 100  # starting x position of the grid\n",
    "    y_start = 600  # starting y position of the grid\n",
    "    cell_width = 80  # width of each cell\n",
    "    cell_height = 80  # height of each cell\n",
    "    \n",
    "    # Draw the grid and add the tree names\n",
    "    for i, row in enumerate(grid):\n",
    "        for j, tree in enumerate(row):\n",
    "            x = x_start + j * cell_width\n",
    "            y = y_start - i * cell_height\n",
    "            # Draw the cell border\n",
    "            c.rect(x, y, cell_width, cell_height)\n",
    "            \n",
    "            # Handle long tree names\n",
    "            tree_top, tree_bottom = split_word(tree)\n",
    "            \n",
    "            # Add the tree name(s) centered in the cell\n",
    "            if tree_bottom:\n",
    "                c.drawCentredString(x + cell_width / 2, y + cell_height / 2 + 6, tree_top)\n",
    "                c.drawCentredString(x + cell_width / 2, y + cell_height / 2 - 12, tree_bottom)\n",
    "            else:\n",
    "                c.drawCentredString(x + cell_width / 2, y + cell_height / 2 - 6, tree_top)\n",
    "    \n",
    "    # Add the ID number at the bottom of the page\n",
    "    c.drawString(100, 50, f\"ID: {id_number}\")\n",
    "    \n",
    "    c.save()\n"
   ]
  },
  {
   "cell_type": "code",
   "execution_count": 18,
   "id": "04088161",
   "metadata": {},
   "outputs": [],
   "source": [
    "for i in range(3):\n",
    "    grid, id_number = generate_random_grid_and_id(trees_en[:])  # Generate the grid and ID number\n",
    "    filename = f\"24bb_en_{id_number}.pdf\"\n",
    "    save_grid_to_pdf(grid, id_number, filename)"
   ]
  },
  {
   "cell_type": "code",
   "execution_count": null,
   "id": "8fab6036",
   "metadata": {},
   "outputs": [],
   "source": []
  }
 ],
 "metadata": {
  "kernelspec": {
   "display_name": "Python 3 (ipykernel)",
   "language": "python",
   "name": "python3"
  },
  "language_info": {
   "codemirror_mode": {
    "name": "ipython",
    "version": 3
   },
   "file_extension": ".py",
   "mimetype": "text/x-python",
   "name": "python",
   "nbconvert_exporter": "python",
   "pygments_lexer": "ipython3",
   "version": "3.9.7"
  }
 },
 "nbformat": 4,
 "nbformat_minor": 5
}
