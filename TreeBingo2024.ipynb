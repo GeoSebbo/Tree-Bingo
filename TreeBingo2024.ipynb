{
 "cells": [
  {
   "cell_type": "markdown",
   "id": "d767d808",
   "metadata": {},
   "source": [
    "###Tree Bingo Card creator"
   ]
  },
  {
   "cell_type": "code",
   "execution_count": 47,
   "id": "e9de2bc7",
   "metadata": {},
   "outputs": [],
   "source": [
    "import random\n",
    "from reportlab.lib.pagesizes import letter\n",
    "from reportlab.pdfgen.canvas import Canvas"
   ]
  },
  {
   "cell_type": "code",
   "execution_count": 48,
   "id": "9a7fca4e",
   "metadata": {},
   "outputs": [],
   "source": [
    "trees = [\"Eiche\", \"Buche\", \"Tanne\", \"Fichte\", \"Linde\", \"Kirsche\", \"Apfel\", \"Birke\", \"Platane\", \"Ahorn\", \"Kastanie\", \"Lärche\", \"Kiefer\", \"Erle\", \"Mammutbaum\", \"Douglasie\", \"Zitterpappel\", \"Esche\", \"Eibe\", \"Walnuss\", \"Haselnuss\", \"Trauerweide\", \"Salweide\", \"Stechpalme\", \"Magnolie\"]\n"
   ]
  },
  {
   "cell_type": "code",
   "execution_count": 49,
   "id": "2ccab603",
   "metadata": {},
   "outputs": [],
   "source": [
    "def generate_random_grid_and_id(trees):\n",
    "    indices = list(range(len(trees)))  # Create a list of indices\n",
    "    random.shuffle(indices)  # Shuffle the indices\n",
    "    id_number = ''.join(f\"{index:02d}\" for index in indices)  # Create the ID number\n",
    "    grid = [[None for _ in range(5)] for _ in range(5)]\n",
    "    for i in range(5):\n",
    "        for j in range(5):\n",
    "            grid[i][j] = trees[indices.pop(0)]\n",
    "    return grid, id_number"
   ]
  },
  {
   "cell_type": "code",
   "execution_count": 50,
   "id": "02f8c8a4",
   "metadata": {},
   "outputs": [],
   "source": [
    "def split_word(tree):\n",
    "    if len(tree) > 10:\n",
    "        # Split the tree name into two lines with a hyphen\n",
    "        return tree[:10] + \"-\", tree[10:]\n",
    "    else:\n",
    "        return tree, None"
   ]
  },
  {
   "cell_type": "code",
   "execution_count": 53,
   "id": "f9e135f9",
   "metadata": {},
   "outputs": [],
   "source": [
    "def save_grid_to_pdf(grid, id_number, filename):\n",
    "    c = Canvas(filename, pagesize=letter)\n",
    "    c.setFont(\"Helvetica-Bold\", 16)\n",
    "    \n",
    "    # Add the title at the top of the page\n",
    "    c.drawCentredString(300, 750, \"BAUM BINGO 2024\")\n",
    "    \n",
    "    # Set font size for the grid\n",
    "    c.setFont(\"Helvetica\", 12)\n",
    "    \n",
    "    # Define grid properties\n",
    "    x_start = 100  # starting x position of the grid\n",
    "    y_start = 600  # starting y position of the grid\n",
    "    cell_width = 80  # width of each cell\n",
    "    cell_height = 80  # height of each cell\n",
    "    \n",
    "    # Draw the grid and add the tree names\n",
    "    for i, row in enumerate(grid):\n",
    "        for j, tree in enumerate(row):\n",
    "            x = x_start + j * cell_width\n",
    "            y = y_start - i * cell_height\n",
    "            # Draw the cell border\n",
    "            c.rect(x, y, cell_width, cell_height)\n",
    "            \n",
    "            # Handle long tree names\n",
    "            tree_top, tree_bottom = split_word(tree)\n",
    "            \n",
    "            # Add the tree name(s) centered in the cell\n",
    "            if tree_bottom:\n",
    "                c.drawCentredString(x + cell_width / 2, y + cell_height / 2 + 6, tree_top)\n",
    "                c.drawCentredString(x + cell_width / 2, y + cell_height / 2 - 12, tree_bottom)\n",
    "            else:\n",
    "                c.drawCentredString(x + cell_width / 2, y + cell_height / 2 - 6, tree_top)\n",
    "    \n",
    "    # Add the ID number at the bottom of the page\n",
    "    c.drawString(100, 50, f\"ID: {id_number}\")\n",
    "    \n",
    "    c.save()\n"
   ]
  },
  {
   "cell_type": "code",
   "execution_count": 54,
   "id": "8815ac1e",
   "metadata": {},
   "outputs": [],
   "source": [
    "for i in range(10):\n",
    "    grid, id_number = generate_random_grid_and_id(trees[:])  # Generate the grid and ID number\n",
    "    filename = f\"24bb_{id_number}.pdf\"\n",
    "    save_grid_to_pdf(grid, id_number, filename)"
   ]
  }
 ],
 "metadata": {
  "kernelspec": {
   "display_name": "Python 3 (ipykernel)",
   "language": "python",
   "name": "python3"
  },
  "language_info": {
   "codemirror_mode": {
    "name": "ipython",
    "version": 3
   },
   "file_extension": ".py",
   "mimetype": "text/x-python",
   "name": "python",
   "nbconvert_exporter": "python",
   "pygments_lexer": "ipython3",
   "version": "3.9.7"
  }
 },
 "nbformat": 4,
 "nbformat_minor": 5
}
